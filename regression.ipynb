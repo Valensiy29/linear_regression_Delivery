{
 "cells": [
  {
   "cell_type": "code",
   "execution_count": null,
   "outputs": [],
   "source": [
    "\n",
    "import numpy as np\n",
    "import pandas as pd\n",
    "import matplotlib.pyplot as plt\n",
    "\n",
    "from tensorflow.keras.models import Sequential, Model # \n",
    "from tensorflow.keras.layers import concatenate, Input, Dense, Dropout, BatchNormalization, Flatten #\n",
    "from tensorflow.keras.optimizers import Adam,Adadelta,SGD,Adagrad,RMSprop #\n",
    "\n",
    "from sklearn.model_selection import cross_val_score, KFold\n",
    "from sklearn.datasets import make_regression\n",
    "from sklearn.model_selection import train_test_split\n",
    "from sklearn.preprocessing import scale, PolynomialFeatures\n",
    "from sklearn.linear_model import LinearRegression, Ridge, Lasso, ElasticNet\n",
    "from sklearn.metrics import mean_absolute_percentage_error, mean_squared_error, r2_score\n",
    "from sklearn.linear_model import SGDClassifier\n",
    "from tensorflow.keras.preprocessing.text import Tokenizer, text_to_word_sequence,tokenizer_from_json"
   ],
   "metadata": {
    "collapsed": false,
    "pycharm": {
     "name": "#%%\n"
    }
   }
  },
  {
   "cell_type": "code",
   "execution_count": null,
   "outputs": [],
   "source": [
    "dataset = pd.read_csv('F:/datasets/Food_Delivery_Times.csv').fillna(0)\n",
    "\n",
    "fixed_df = dataset.drop(dataset.columns[0],axis = 1)\n",
    "\n",
    "fixed_df"
   ],
   "metadata": {
    "collapsed": false,
    "pycharm": {
     "name": "#%%\n"
    }
   }
  },
  {
   "cell_type": "code",
   "execution_count": null,
   "outputs": [],
   "source": [
    "x_train,y_train = dataset.iloc[:, 1:-1].values, dataset.iloc[:,-1:].values\n",
    "print(x_train[0])\n",
    "print(y_train[0])\n",
    "\n",
    "x2_train = dataset.iloc[:, 1:].values\n",
    "print(x2_train[0])"
   ],
   "metadata": {
    "collapsed": false,
    "pycharm": {
     "name": "#%%\n"
    }
   }
  },
  {
   "cell_type": "code",
   "execution_count": null,
   "outputs": [],
   "source": [
    "def delivery_time(val):\n",
    "    return val/100\n",
    "\n",
    "\n",
    "def distance_km(val):\n",
    "    return val/100\n",
    "\n",
    "def preparation_time(val):\n",
    "    return val/100\n",
    "\n",
    "def experiance(val):\n",
    "        return val/10\n",
    "\n",
    "def weather(i):\n",
    "    if i=='Clear':\n",
    "        return [1,0,0,0,0]\n",
    "    elif i=='Windy':\n",
    "        return [0,1,0,0,0]\n",
    "    elif i=='Rainy':\n",
    "        return [0,0,1,0,0]\n",
    "    elif i=='Foggy':\n",
    "        return [0,0,0,1,0]\n",
    "    elif i=='Snowy':\n",
    "        return [0,0,0,0,1]\n",
    "    else:\n",
    "        return [0,0,0,0,0]\n",
    "            \n",
    "def traffic(t):\n",
    "    if t=='Low':\n",
    "        return [1,0,0]\n",
    "    elif t=='Medium':\n",
    "        return [0,1,0]\n",
    "    elif t=='High':\n",
    "        return [0,0,1]\n",
    "    else:\n",
    "        return [0,0,0]\n",
    "\n",
    "def day_phase(d):\n",
    "    if d=='Morning':\n",
    "        return [1,0,0,0]\n",
    "    elif d=='Afternoon':\n",
    "        return [0,1,0,0]\n",
    "    elif d=='Evening':\n",
    "        return [0,0,1,0]\n",
    "    elif d=='Night':\n",
    "        return [0,0,0,1]\n",
    "    else:\n",
    "        return [0,0,0,0]\n",
    "\n",
    "def transport(trans):\n",
    "    if trans=='Scooter':\n",
    "        return [1,0,0]\n",
    "    elif trans=='Bike':\n",
    "        return [0,1,0]\n",
    "    elif trans=='Car':\n",
    "        return [0,0,1]\n",
    "    else:\n",
    "        return [0,0,0]\n",
    "\n",
    "def getAllParameters(val):\n",
    "    distance = distance_km(val[0])\n",
    "    pr_time = preparation_time(val[5])\n",
    "    exp = experiance(val[6])\n",
    "    wet = weather(val[1])\n",
    "    traf = traffic(val[2])\n",
    "    day = day_phase(val[3])\n",
    "    vehicle = transport(val[4])\n",
    "    out = []\n",
    "\n",
    "    out.append(distance)\n",
    "    out.append(pr_time)\n",
    "    out.append(exp)\n",
    "    out+=wet\n",
    "    out+=traf\n",
    "    out+=day\n",
    "    out+=vehicle\n",
    "    print(out)\n",
    "    return out\n",
    "\n",
    "\n",
    "def xy_data(x_train):\n",
    "    x1_train=[]\n",
    "    y_train=[]\n",
    "\n",
    "    for i in x_train:\n",
    "        print(i)\n",
    "        y = delivery_time(i[7])\n",
    "        \n",
    "        x = getAllParameters(i)\n",
    "        x1_train.append(x)\n",
    "        y_train.append(y)\n",
    "            \n",
    "    x2_train = np.array(x1_train)\n",
    "    y_train = np.array(y_train)\n",
    "\n",
    "    return (x2_train, y_train)\n"
   ],
   "metadata": {
    "collapsed": false,
    "pycharm": {
     "name": "#%%\n"
    }
   }
  },
  {
   "cell_type": "code",
   "execution_count": null,
   "outputs": [],
   "source": [
    "(x1_train, y_train) = xy_data(x2_train)\n",
    "y_train"
   ],
   "metadata": {
    "collapsed": false,
    "pycharm": {
     "name": "#%%\n"
    }
   }
  },
  {
   "cell_type": "code",
   "execution_count": null,
   "outputs": [],
   "source": [
    "X1_train, X1_test, y1_train, y1_test = train_test_split(x1_train, y_train, random_state=0)\n",
    "x1_train.shape,y_train.shape"
   ],
   "metadata": {
    "collapsed": false,
    "pycharm": {
     "name": "#%%\n"
    }
   }
  },
  {
   "cell_type": "code",
   "execution_count": null,
   "outputs": [],
   "source": [],
   "metadata": {
    "collapsed": false,
    "pycharm": {
     "name": "#%%\n"
    }
   }
  },
  {
   "cell_type": "code",
   "execution_count": null,
   "outputs": [],
   "source": [
    "\n",
    "model = LinearRegression()\n",
    "model.fit(X1_train,y1_train)\n",
    "model_pred = model.predict(X1_test)\n",
    "model_score = r2_score(y1_test,model_pred)\n",
    "model_mape=mean_absolute_percentage_error(y1_test, model_pred)\n",
    "\n",
    "print(f'model score r2:{model_score}')\n",
    "print(f'model mape:{model_mape}')\n"
   ],
   "metadata": {
    "collapsed": false,
    "pycharm": {
     "name": "#%%\n"
    }
   }
  },
  {
   "cell_type": "code",
   "execution_count": null,
   "outputs": [],
   "source": [
    "#кросс валидация\n",
    "model = LinearRegression()\n",
    "\n",
    "scores = cross_val_score(model, X1_train, y1_train, cv=20, scoring='r2')\n",
    "\n",
    "print(f'Оценки R² на каждом фолде: {scores}')\n",
    "print(f'Среднее значение R²: {scores.sum()/len(scores)}')"
   ],
   "metadata": {
    "collapsed": false,
    "pycharm": {
     "name": "#%%\n"
    }
   }
  },
  {
   "cell_type": "code",
   "execution_count": null,
   "outputs": [],
   "source": [],
   "metadata": {
    "collapsed": false,
    "pycharm": {
     "name": "#%%\n"
    }
   }
  },
  {
   "cell_type": "code",
   "execution_count": null,
   "outputs": [],
   "source": [
    "y1_test.shape"
   ],
   "metadata": {
    "collapsed": false,
    "pycharm": {
     "name": "#%%\n"
    }
   }
  },
  {
   "cell_type": "code",
   "execution_count": null,
   "outputs": [],
   "source": [
    "model = LinearRegression()\n",
    "model.fit(X1_train,y1_train)\n",
    "pred = model.predict(X1_test)\n",
    "plt.scatter(y1_test,pred)\n",
    "plt.axis('equal')\n",
    "plt.xlim(plt.xlim())\n",
    "plt.ylim(plt.ylim())\n",
    "plt.plot(X1_test,X1_test)\n",
    "plt.plot(pred,pred)\n",
    "plt.show()"
   ],
   "metadata": {
    "collapsed": false,
    "pycharm": {
     "name": "#%%\n"
    }
   }
  },
  {
   "cell_type": "code",
   "execution_count": null,
   "outputs": [],
   "source": [
    "x1_train = x1_train.astype('float64')\n",
    "y_train = y_train.astype('float64')\n",
    "from sklearn.preprocessing import StandardScaler #\n",
    "yScaler = StandardScaler()\n",
    "\n",
    "# Скармливаем объекту двумерный вектор\n",
    "yScaler.fit(y_train.reshape(-1, 1))\n",
    "\n",
    "# Нормализуем по нормальному распределению\n",
    "yTrainScaled = yScaler.transform(y_train.reshape(-1,1))"
   ],
   "metadata": {
    "collapsed": false,
    "pycharm": {
     "name": "#%%\n"
    }
   }
  },
  {
   "cell_type": "code",
   "execution_count": null,
   "outputs": [],
   "source": [
    "\n",
    "# Обучаем модель стандартизированными данными\n",
    "model = Sequential()\n",
    "model.add(Dense(100,activation='linear'))\n",
    "model.add(Dense(1000,activation='tanh'))\n",
    "model.add(Dense(100,activation='linear'))\n",
    "model.add(Dense(1,activation='relu'))\n",
    "\n",
    "model.compile( loss='mse', metrics=['accuracy'])\n",
    "\n",
    "\n",
    "history = model.fit(X1_train\n",
    "                    ,y1_train,\n",
    "                    epochs=10,                    \n",
    "                     validation_split=0.10)"
   ],
   "metadata": {
    "collapsed": false,
    "pycharm": {
     "name": "#%%\n"
    }
   }
  },
  {
   "cell_type": "code",
   "execution_count": null,
   "outputs": [],
   "source": [
    "plt.plot(history.history['loss'])\n",
    "plt.plot(history.history['val_loss'])\n",
    "plt.show()"
   ],
   "metadata": {
    "collapsed": false,
    "pycharm": {
     "name": "#%%\n"
    }
   }
  },
  {
   "cell_type": "code",
   "execution_count": 70,
   "id": "547fd8a0",
   "metadata": {
    "collapsed": false,
    "jupyter": {
     "outputs_hidden": false
    },
    "pycharm": {
     "name": "#%%\n"
    }
   },
   "outputs": [
    {
     "name": "stdout",
     "output_type": "stream",
     "text": [
      "Epoch 1/10\n",
      "\u001B[1m22/22\u001B[0m \u001B[32m━━━━━━━━━━━━━━━━━━━━\u001B[0m\u001B[37m\u001B[0m \u001B[1m1s\u001B[0m 14ms/step - accuracy: 0.0000e+00 - loss: 0.5211 - val_accuracy: 0.0000e+00 - val_loss: 0.3838\n",
      "Epoch 2/10\n",
      "\u001B[1m22/22\u001B[0m \u001B[32m━━━━━━━━━━━━━━━━━━━━\u001B[0m\u001B[37m\u001B[0m \u001B[1m0s\u001B[0m 7ms/step - accuracy: 4.8838e-04 - loss: 0.3395 - val_accuracy: 0.0000e+00 - val_loss: 0.6318\n",
      "Epoch 3/10\n",
      "\u001B[1m22/22\u001B[0m \u001B[32m━━━━━━━━━━━━━━━━━━━━\u001B[0m\u001B[37m\u001B[0m \u001B[1m0s\u001B[0m 7ms/step - accuracy: 0.0000e+00 - loss: 0.3305 - val_accuracy: 0.0000e+00 - val_loss: 0.3342\n",
      "Epoch 4/10\n",
      "\u001B[1m22/22\u001B[0m \u001B[32m━━━━━━━━━━━━━━━━━━━━\u001B[0m\u001B[37m\u001B[0m \u001B[1m0s\u001B[0m 7ms/step - accuracy: 0.0016 - loss: 0.1204 - val_accuracy: 0.0000e+00 - val_loss: 0.1992\n",
      "Epoch 5/10\n",
      "\u001B[1m22/22\u001B[0m \u001B[32m━━━━━━━━━━━━━━━━━━━━\u001B[0m\u001B[37m\u001B[0m \u001B[1m0s\u001B[0m 7ms/step - accuracy: 0.0026 - loss: 0.1056 - val_accuracy: 0.0000e+00 - val_loss: 0.2032\n",
      "Epoch 6/10\n",
      "\u001B[1m22/22\u001B[0m \u001B[32m━━━━━━━━━━━━━━━━━━━━\u001B[0m\u001B[37m\u001B[0m \u001B[1m0s\u001B[0m 7ms/step - accuracy: 0.0025 - loss: 0.0894 - val_accuracy: 0.0000e+00 - val_loss: 0.2008\n",
      "Epoch 7/10\n",
      "\u001B[1m22/22\u001B[0m \u001B[32m━━━━━━━━━━━━━━━━━━━━\u001B[0m\u001B[37m\u001B[0m \u001B[1m0s\u001B[0m 7ms/step - accuracy: 0.0018 - loss: 0.0828 - val_accuracy: 0.0000e+00 - val_loss: 0.0836\n",
      "Epoch 8/10\n",
      "\u001B[1m22/22\u001B[0m \u001B[32m━━━━━━━━━━━━━━━━━━━━\u001B[0m\u001B[37m\u001B[0m \u001B[1m0s\u001B[0m 7ms/step - accuracy: 0.0048 - loss: 0.0524 - val_accuracy: 0.0000e+00 - val_loss: 0.0673\n",
      "Epoch 9/10\n",
      "\u001B[1m22/22\u001B[0m \u001B[32m━━━━━━━━━━━━━━━━━━━━\u001B[0m\u001B[37m\u001B[0m \u001B[1m0s\u001B[0m 8ms/step - accuracy: 0.0045 - loss: 0.0382 - val_accuracy: 0.0000e+00 - val_loss: 0.1310\n",
      "Epoch 10/10\n",
      "\u001B[1m22/22\u001B[0m \u001B[32m━━━━━━━━━━━━━━━━━━━━\u001B[0m\u001B[37m\u001B[0m \u001B[1m0s\u001B[0m 7ms/step - accuracy: 0.0034 - loss: 0.0607 - val_accuracy: 0.0000e+00 - val_loss: 0.0702\n"
     ]
    }
   ],
   "source": [
    "\n",
    "# Обучаем модель стандартизированными данными\n",
    "model = Sequential()\n",
    "model.add(Dense(100,activation='linear'))\n",
    "model.add(Dense(1000,activation='tanh'))\n",
    "model.add(Dense(100,activation='linear'))\n",
    "model.add(Dense(1,activation='relu'))\n",
    "\n",
    "model.compile( loss='mse', metrics=['accuracy'])\n",
    "\n",
    "\n",
    "history = model.fit(X1_train\n",
    "                    ,y1_train,\n",
    "                    epochs=10,                    \n",
    "                     validation_split=0.10)"
   ]
  },
  {
   "cell_type": "code",
   "execution_count": 67,
   "id": "1f02af16",
   "metadata": {
    "collapsed": false,
    "jupyter": {
     "outputs_hidden": false
    },
    "pycharm": {
     "name": "#%%\n"
    }
   },
   "outputs": [
    {
     "data": {
      "image/png": "[encoded data removed]",
      "text/plain": [
       "<Figure size 640x480 with 1 Axes>"
      ]
     },
     "metadata": {},
     "output_type": "display_data"
    }
   ],
   "source": [
    "plt.plot(history.history['loss'])\n",
    "plt.plot(history.history['val_loss'])\n",
    "plt.show()"
   ]
  },
  {
   "cell_type": "code",
   "execution_count": null,
   "id": "9ad5aa94",
   "metadata": {
    "collapsed": false,
    "jupyter": {
     "outputs_hidden": false
    },
    "pycharm": {
     "name": "#%%\n"
    }
   },
   "outputs": [],
   "source": []
  }
 ],
 "metadata": {
  "kernelspec": {
   "display_name": "Python 3 (ipykernel)",
   "language": "python",
   "name": "python3"
  },
  "language_info": {
   "codemirror_mode": {
    "name": "ipython",
    "version": 3
   },
   "file_extension": ".py",
   "mimetype": "text/x-python",
   "name": "python",
   "nbconvert_exporter": "python",
   "pygments_lexer": "ipython3",
   "version": "3.9.19"
  }
 },
 "nbformat": 4,
 "nbformat_minor": 5
}